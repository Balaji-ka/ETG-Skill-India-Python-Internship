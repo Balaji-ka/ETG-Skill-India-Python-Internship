{
  "nbformat": 4,
  "nbformat_minor": 0,
  "metadata": {
    "colab": {
      "name": "IMS.ipynb",
      "provenance": [],
      "authorship_tag": "ABX9TyOzSTytNiRv4Opssgo00wA6"
    },
    "kernelspec": {
      "name": "python3",
      "display_name": "Python 3"
    },
    "language_info": {
      "name": "python"
    }
  },
  "cells": [
    {
      "cell_type": "code",
      "metadata": {
        "id": "lb947yFyEDF2"
      },
      "source": [
        "import json"
      ],
      "execution_count": null,
      "outputs": []
    },
    {
      "cell_type": "code",
      "metadata": {
        "id": "WGReDaxuCmby"
      },
      "source": [
        "fd = open(\"record.json\",'r')\n",
        "r = fd.read()\n",
        "fd.close()\n",
        "\n",
        "record = json.loads(r)"
      ],
      "execution_count": null,
      "outputs": []
    },
    {
      "cell_type": "code",
      "metadata": {
        "colab": {
          "base_uri": "https://localhost:8080/"
        },
        "id": "vzco8P5zCyMD",
        "outputId": "e9a1216b-3ac7-463e-db45-b0ada938a04c"
      },
      "source": [
        "record"
      ],
      "execution_count": null,
      "outputs": [
        {
          "output_type": "execute_result",
          "data": {
            "text/plain": [
              "{'1001': {'name': 'Choco Cake', 'pr': 100, 'qn': 34},\n",
              " '1002': {'name': 'Milk Cake', 'pr': 800, 'qn': 100},\n",
              " '1003': {'name': 'Drink', 'pr': 85, 'qn': 100},\n",
              " '1004': {'name': 'Candy', 'pr': 5, 'qn': 1000},\n",
              " '1005': {'name': 'Pen', 'pr': 20, 'qn': 100},\n",
              " '1006': {'name': 'Phone', 'pr': 50000, 'qn': 10},\n",
              " '1007': {'name': 'Mic', 'pr': 1500, 'qn': 0},\n",
              " '1008': {'name': 'Case', 'pr': 599, 'qn': 5},\n",
              " '1009': {'name': 'Keyboard', 'pr': 1999, 'qn': 10},\n",
              " '1010': {'name': 'Apple', 'pr': 75, 'qn': 100},\n",
              " '1011': {'name': 'Orange', 'pr': 112, 'qn': 98},\n",
              " '1012': {'name': 'Cherries', 'pr': 30, 'qn': 48},\n",
              " '1013': {'name': 'Banana', 'pr': 12, 'qn': 234},\n",
              " '1014': {'name': 'Peach', 'pr': 50, 'qn': 100},\n",
              " '1015': {'name': 'Headphones', 'pr': 40, 'qn': 100},\n",
              " '1016': {'name': 'Mobile Accessories', 'pr': 200, 'qn': 50},\n",
              " '1017': {'name': 'Groceries', 'pr': 500, 'qn': 1000},\n",
              " '1018': {'name': 'Dresses', 'pr': 690, 'qn': 1000},\n",
              " '1019': {'name': 'Handbags', 'pr': 200, 'qn': 500},\n",
              " '1020': {'name': 'Footwears', 'pr': 80, 'qn': 800},\n",
              " '1021': {'name': 'Doormats', 'pr': 57, 'qn': 78},\n",
              " '1022': {'name': 'Toys', 'pr': 200, 'qn': 1000},\n",
              " '1023': {'name': 'Water Bottles', 'pr': 20, 'qn': 200},\n",
              " '1024': {'name': 'Books', 'pr': 100, 'qn': 400},\n",
              " '1025': {'name': 'Laptops', 'pr': 28000, 'qn': 100},\n",
              " '1026': {'name': 'Musical Instruments', 'pr': 3000, 'qn': 19},\n",
              " '1027': {'name': 'School Bags', 'pr': 300, 'qn': 100},\n",
              " '1028': {'name': 'Pendrives', 'pr': 100, 'qn': 500},\n",
              " '1029': {'name': 'Airdopes', 'pr': 2000, 'qn': 50},\n",
              " '1030': {'name': 'Ipad', 'pr': 10000, 'qn': 100}}"
            ]
          },
          "metadata": {},
          "execution_count": 3
        }
      ]
    },
    {
      "cell_type": "code",
      "metadata": {
        "id": "Ve9oRvfOCyR7"
      },
      "source": [
        "def menuDisplay():\n",
        "    print('===============================')\n",
        "    print('= Inventory Management System =')\n",
        "    print('===============================')\n",
        "    print('(1) Add New Item')\n",
        "    print('(2) Remove Item')\n",
        "    print('(3) Update Item')\n",
        "    print('(4) Search Item')\n",
        "    print('(5) Print Inventory Report')\n",
        "    print('(6) Purchase Item')\n",
        "    print('(7) Quit')\n",
        "    CHOICE = int(input(\"Enter choice: \"))\n",
        "    menuSelection(CHOICE)\n",
        "def menuSelection(CHOICE):\n",
        "    if CHOICE == 1:\n",
        "        addInventory()\n",
        "    elif CHOICE == 2:\n",
        "        removeInventory()\n",
        "    elif CHOICE == 3:\n",
        "        updateInventory()\n",
        "    elif CHOICE == 4:\n",
        "        searchInventory()\n",
        "    elif CHOICE == 5:\n",
        "        printInventory()\n",
        "    elif CHOICE == 6:\n",
        "        purchaseItem()\n"
      ],
      "execution_count": null,
      "outputs": []
    },
    {
      "cell_type": "code",
      "metadata": {
        "id": "oztQcUEtCyVw"
      },
      "source": [
        "def addInventory():\n",
        "    print(\"Adding Inventory\")\n",
        "    print(\"================\")\n",
        "    prod_id = str(input(\"Enter product id:\"))\n",
        "    name = str(input(\"Enter name:\"))\n",
        "    pr = int(input(\"Enter price:\"))\n",
        "    qn = int(input(\"Enter quantity:\"))\n",
        "\n",
        "    record[prod_id] = {'name': name, 'pr': pr, 'qn': qn}\n",
        "\n",
        "    js = json.dumps(record)\n",
        "\n",
        "    fd = open(\"record.json\",'w')\n",
        "    fd.write(js)\n",
        "    fd.close()\n",
        "    CHOICE = input('Enter y to continue or n to exit: ')\n",
        "    if CHOICE == 'y':\n",
        "            menuDisplay()\n",
        "  \n"
      ],
      "execution_count": null,
      "outputs": []
    },
    {
      "cell_type": "code",
      "metadata": {
        "id": "hb4yvm1sFKrQ"
      },
      "source": [
        "def removeInventory():\n",
        "    print(\"Removing Inventory\")\n",
        "    print(\"==================\")\n",
        "    prod_id = str(input(\"Enter product id:\"))\n",
        "    if (prod_id in record.keys()):\n",
        "      del record[prod_id]  \n",
        "    else:\n",
        "      print(\"Sorry!Given Product Id is not available\")              \n",
        "\n",
        "    js = json.dumps(record)\n",
        "\n",
        "    fd = open(\"record.json\",'w')\n",
        "    fd.write(js)\n",
        "    fd.close()\n",
        "    CHOICE = input('Enter y to continue or n to exit: ')\n",
        "    if CHOICE == 'y':\n",
        "            menuDisplay()\n",
        "    "
      ],
      "execution_count": null,
      "outputs": []
    },
    {
      "cell_type": "code",
      "metadata": {
        "id": "PIslYMRKFKwH"
      },
      "source": [
        "def updateInventory():\n",
        "    print(\"Updating Inventory\")\n",
        "    print(\"==================\")\n",
        "    prod_id = str(input(\"Enter product id:\"))\n",
        "    if (prod_id in record.keys()):\n",
        "      print(\"The Selected Product is:\",record[prod_id]['name'])\n",
        "      new_pr=int(input(\"Enter the new price of the given product:\"))\n",
        "      new_qn=int(input(\"Enter the updated quantity to be added with the given quantity:\"))\n",
        "      record[prod_id]['qn']=record[prod_id]['qn']+new_qn\n",
        "      record[prod_id]['pr']=record[prod_id]['pr']+new_pr\n",
        "\n",
        "      js = json.dumps(record)\n",
        "\n",
        "      fd = open(\"record.json\",'w')\n",
        "      fd.write(js)\n",
        "      fd.close()\n",
        "      CHOICE = input('Enter y to continue or n to exit: ')\n",
        "\n",
        "      if CHOICE == 'y':\n",
        "        menuDisplay()\n",
        "      \n",
        "\n"
      ],
      "execution_count": null,
      "outputs": []
    },
    {
      "cell_type": "code",
      "metadata": {
        "id": "heQUQOtkFK0D"
      },
      "source": [
        "def searchInventory():\n",
        "  se_pr=str(input(\"Enter the Product you want:\"))\n",
        "  for g in record.keys():\n",
        "    if se_pr==record[g]['name']:\n",
        "      print(\"The Product Id is:\",[g])\n",
        "      print(\"The Product Quantity is:\",record[g]['qn'])\n",
        "      print(\"The Product Price is:\",record[g]['pr'])\n",
        "\n",
        "      CHOICE = input('Enter y to continue or n to exit: ')\n",
        "\n",
        "      if CHOICE == 'y':\n",
        "        menuDisplay()\n",
        "     \n"
      ],
      "execution_count": null,
      "outputs": []
    },
    {
      "cell_type": "code",
      "metadata": {
        "id": "QGxmqHfnFK-W"
      },
      "source": [
        "def printInventory():\n",
        "  for i in record.keys():\n",
        "    print(record[i])\n",
        "\n",
        "  CHOICE = input('Enter y to continue or n to exit: ')\n",
        "  if CHOICE=='y':\n",
        "    menuDisplay()\n",
        "  \n",
        "\n"
      ],
      "execution_count": null,
      "outputs": []
    },
    {
      "cell_type": "code",
      "metadata": {
        "id": "3GH-ZE2_FLCi"
      },
      "source": [
        "def purchaseItem():\n",
        "  ui_prod  = str(input(\"Enter the product_Id: \"))\n",
        "  ui_quant = int(input(\"Enter the quantity: \"))\n",
        "  \n",
        "  if ui_quant>0:\n",
        "    \n",
        "    print(\"Product: \", record[ui_prod]['name'])\n",
        "    print(\"Price: \", record[ui_prod]['pr'])\n",
        "    print(\"Billing Amount: \", record[ui_prod]['pr'] * ui_quant)\n",
        "\n",
        "    record[ui_prod]['qn'] = record[ui_prod]['qn'] - ui_quant\n",
        "                   \n",
        "    js = json.dumps(record)\n",
        "\n",
        "    fd = open(\"record.json\",'w')\n",
        "    fd.write(js)\n",
        "    fd.close()\n",
        "\n",
        "    sales={}\n",
        "    sales[ui_prod]={'name':record[ui_prod]['name'],'pr':record[ui_prod]['pr'],'qn':ui_quant}\n",
        "    sales_report=json.dumps(sales)\n",
        "    s=open(\"Sales.json\",'w')\n",
        "    s.write(sales_report)\n",
        "    s.close()\n",
        "\n",
        "  else:\n",
        "    print(\"The Product is Unavailable\")\n",
        "\n",
        "  \n",
        "\n",
        "  \n",
        "  CHOICE = input('Enter y to continue or n to exit: ')\n",
        "  if CHOICE=='y':\n",
        "    menuDisplay()\n",
        "  \n",
        "          "
      ],
      "execution_count": null,
      "outputs": []
    },
    {
      "cell_type": "code",
      "metadata": {
        "colab": {
          "base_uri": "https://localhost:8080/"
        },
        "id": "vVpuZphAFLHi",
        "outputId": "10ee1247-64b7-4057-fc07-ce90d2680161"
      },
      "source": [
        "menuDisplay()"
      ],
      "execution_count": null,
      "outputs": [
        {
          "name": "stdout",
          "output_type": "stream",
          "text": [
            "===============================\n",
            "= Inventory Management System =\n",
            "===============================\n",
            "(1) Add New Item\n",
            "(2) Remove Item\n",
            "(3) Update Item\n",
            "(4) Search Item\n",
            "(5) Print Inventory Report\n",
            "(6) Purchase Item\n",
            "(7) Quit\n",
            "Enter choice: 1\n",
            "Adding Inventory\n",
            "================\n",
            "Enter product id:1031\n",
            "Enter name:Cream Cake\n",
            "Enter price:30\n",
            "Enter quantity:100\n",
            "Enter y to continue or n to exit: y\n",
            "===============================\n",
            "= Inventory Management System =\n",
            "===============================\n",
            "(1) Add New Item\n",
            "(2) Remove Item\n",
            "(3) Update Item\n",
            "(4) Search Item\n",
            "(5) Print Inventory Report\n",
            "(6) Purchase Item\n",
            "(7) Quit\n",
            "Enter choice: 1\n",
            "Adding Inventory\n",
            "================\n",
            "Enter product id:1032\n",
            "Enter name:Choco Biscuits\n",
            "Enter price:20\n",
            "Enter quantity:34\n",
            "Enter y to continue or n to exit: y\n",
            "===============================\n",
            "= Inventory Management System =\n",
            "===============================\n",
            "(1) Add New Item\n",
            "(2) Remove Item\n",
            "(3) Update Item\n",
            "(4) Search Item\n",
            "(5) Print Inventory Report\n",
            "(6) Purchase Item\n",
            "(7) Quit\n",
            "Enter choice: 2\n",
            "Removing Inventory\n",
            "==================\n",
            "Enter product id:1032\n",
            "Enter y to continue or n to exit: y\n",
            "===============================\n",
            "= Inventory Management System =\n",
            "===============================\n",
            "(1) Add New Item\n",
            "(2) Remove Item\n",
            "(3) Update Item\n",
            "(4) Search Item\n",
            "(5) Print Inventory Report\n",
            "(6) Purchase Item\n",
            "(7) Quit\n",
            "Enter choice: 3\n",
            "Updating Inventory\n",
            "==================\n",
            "Enter product id:1031\n",
            "The Selected Product is: Cream Cake\n",
            "Enter the new price of the given product:40\n",
            "Enter the updated quantity to be added with the given quantity:67\n",
            "Enter y to continue or n to exit: y\n",
            "===============================\n",
            "= Inventory Management System =\n",
            "===============================\n",
            "(1) Add New Item\n",
            "(2) Remove Item\n",
            "(3) Update Item\n",
            "(4) Search Item\n",
            "(5) Print Inventory Report\n",
            "(6) Purchase Item\n",
            "(7) Quit\n",
            "Enter choice: 4\n",
            "Enter the Product you want:Cream Cake\n",
            "The Product Id is: ['1031']\n",
            "The Product Quantity is: 167\n",
            "The Product Price is: 70\n",
            "Enter y to continue or n to exit: y\n",
            "===============================\n",
            "= Inventory Management System =\n",
            "===============================\n",
            "(1) Add New Item\n",
            "(2) Remove Item\n",
            "(3) Update Item\n",
            "(4) Search Item\n",
            "(5) Print Inventory Report\n",
            "(6) Purchase Item\n",
            "(7) Quit\n",
            "Enter choice: 5\n",
            "{'name': 'Choco Cake', 'qn': 34, 'pr': 100}\n",
            "{'name': 'Milk Cake', 'pr': 800, 'qn': 100}\n",
            "{'name': 'Drink', 'pr': 85, 'qn': 100}\n",
            "{'name': 'Candy', 'pr': 5, 'qn': 1000}\n",
            "{'name': 'Pen', 'pr': 20, 'qn': 100}\n",
            "{'name': 'Phone', 'pr': 50000, 'qn': 10}\n",
            "{'name': 'Mic', 'pr': 1500, 'qn': 0}\n",
            "{'name': 'Case', 'pr': 599, 'qn': 5}\n",
            "{'name': 'Keyboard', 'pr': 1999, 'qn': 10}\n",
            "{'name': 'Apple', 'pr': 75, 'qn': 100}\n",
            "{'name': 'Orange', 'pr': 112, 'qn': 98}\n",
            "{'name': 'Cherries', 'pr': 30, 'qn': 48}\n",
            "{'name': 'Banana', 'pr': 12, 'qn': 234}\n",
            "{'name': 'Peach', 'pr': 50, 'qn': 100}\n",
            "{'name': 'Headphones', 'pr': 40, 'qn': 100}\n",
            "{'name': 'Mobile Accessories', 'pr': 200, 'qn': 50}\n",
            "{'name': 'Groceries', 'pr': 500, 'qn': 1000}\n",
            "{'name': 'Dresses', 'pr': 690, 'qn': 1000}\n",
            "{'name': 'Handbags', 'pr': 200, 'qn': 500}\n",
            "{'name': 'Footwears', 'pr': 80, 'qn': 800}\n",
            "{'name': 'Doormats', 'pr': 57, 'qn': 78}\n",
            "{'name': 'Toys', 'pr': 200, 'qn': 1000}\n",
            "{'name': 'Water Bottles', 'pr': 20, 'qn': 200}\n",
            "{'name': 'Books', 'pr': 100, 'qn': 400}\n",
            "{'name': 'Laptops', 'pr': 28000, 'qn': 100}\n",
            "{'name': 'Musical Instruments', 'pr': 3000, 'qn': 19}\n",
            "{'name': 'School Bags', 'pr': 300, 'qn': 100}\n",
            "{'name': 'Pendrives', 'pr': 100, 'qn': 500}\n",
            "{'name': 'Airdopes', 'pr': 2000, 'qn': 50}\n",
            "{'name': 'Ipad', 'pr': 10000, 'qn': 100}\n",
            "{'name': 'Cream Cake', 'pr': 70, 'qn': 167}\n",
            "Enter y to continue or n to exit: y\n",
            "===============================\n",
            "= Inventory Management System =\n",
            "===============================\n",
            "(1) Add New Item\n",
            "(2) Remove Item\n",
            "(3) Update Item\n",
            "(4) Search Item\n",
            "(5) Print Inventory Report\n",
            "(6) Purchase Item\n",
            "(7) Quit\n",
            "Enter choice: 6\n",
            "Enter the product_Id: 1031\n",
            "Enter the quantity: 25\n",
            "Product:  Cream Cake\n",
            "Price:  70\n",
            "Billing Amount:  1750\n",
            "Enter y to continue or n to exit: y\n",
            "===============================\n",
            "= Inventory Management System =\n",
            "===============================\n",
            "(1) Add New Item\n",
            "(2) Remove Item\n",
            "(3) Update Item\n",
            "(4) Search Item\n",
            "(5) Print Inventory Report\n",
            "(6) Purchase Item\n",
            "(7) Quit\n",
            "Enter choice: 7\n"
          ]
        }
      ]
    },
    {
      "cell_type": "code",
      "metadata": {
        "id": "W67rpi5sCya2"
      },
      "source": [
        ""
      ],
      "execution_count": null,
      "outputs": []
    },
    {
      "cell_type": "code",
      "metadata": {
        "id": "sFbjB3moCyfV"
      },
      "source": [
        ""
      ],
      "execution_count": null,
      "outputs": []
    },
    {
      "cell_type": "code",
      "metadata": {
        "id": "jTwIzMpHCyjh"
      },
      "source": [
        ""
      ],
      "execution_count": null,
      "outputs": []
    }
  ]
}